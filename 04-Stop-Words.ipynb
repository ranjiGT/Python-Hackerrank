{
 "cells": [
  {
   "cell_type": "markdown",
   "metadata": {},
   "source": [
    "___\n",
    "\n",
    "<a href='http://www.pieriandata.com'> <img src='../Pierian_Data_Logo.png' /></a>\n",
    "___"
   ]
  },
  {
   "cell_type": "markdown",
   "metadata": {},
   "source": [
    "# Stop Words\n",
    "Words like \"a\" and \"the\" appear so frequently that they don't require tagging as thoroughly as nouns, verbs and modifiers. We call these *stop words*, and they can be filtered from the text to be processed. spaCy holds a built-in list of some 305 English stop words."
   ]
  },
  {
   "cell_type": "code",
   "execution_count": 1,
   "metadata": {},
   "outputs": [],
   "source": [
    "# Perform standard imports:\n",
    "import spacy\n",
    "nlp = spacy.load('en_core_web_sm')"
   ]
  },
  {
   "cell_type": "code",
   "execution_count": 2,
   "metadata": {},
   "outputs": [
    {
     "name": "stdout",
     "output_type": "stream",
     "text": [
      "{'bottom', 'through', 'nowhere', 'not', 'thereby', 'hereupon', 'several', 'about', 'doing', 'as', 'whither', 'empty', 'ever', 'done', 'beforehand', 'out', 'therein', '’ll', 'elsewhere', 'whatever', 'am', 'anyhow', 'them', \"'ve\", 'cannot', \"'d\", 'must', 'against', 'hundred', 'would', 'whereby', 'from', 'else', 'thereupon', 'always', '’ve', 'go', 'wherein', 'whereas', 'yet', 'already', 'can', 'whole', 'used', 'further', 'himself', 'formerly', 'to', 'anywhere', 'us', 'everything', 'become', 'we', 'those', 'hereafter', 'often', 'whenever', \"'re\", 'up', 're', 'due', '’m', 'put', 'others', 'above', 'less', 'again', 'which', 'anyway', 'whereafter', 'under', 'four', 'amount', 'and', '‘ve', 'latter', 'it', 'been', 'toward', 'how', 'me', \"'s\", 'while', 'eight', 'did', 'more', 'noone', 'made', 'herein', 'yours', 'few', 'since', 'nine', 'by', 'same', 'n‘t', '‘d', 'one', 'over', 'either', 'into', 'therefore', 'ours', 'really', 'per', 'ca', 'seems', 'show', 'be', 'our', 'where', 'once', 'the', \"'m\", 'quite', 'beyond', 'or', 'in', 'next', 'on', 'well', 'a', 'get', 'this', 'move', 'seemed', 'everyone', 'your', 'latterly', 'first', 'between', 'fifty', 'do', 'seeming', 'keep', 'rather', 'so', 'ourselves', 'take', '‘s', 'might', 'twelve', 'otherwise', 'third', 'because', 'part', 'someone', 'some', 'too', 'there', 'whence', 'though', 'almost', 'most', 'each', 'for', 'onto', 'whereupon', 'becoming', 'they', 'all', 'mine', 'however', 'had', 'herself', 'back', 'mostly', 'give', 'fifteen', 'other', 'former', 'being', 'enough', 'top', 'but', 'only', 'were', 'also', 'what', \"n't\", 'thru', 'themselves', 'whoever', 'side', 'myself', 'yourself', 'he', 'now', 'such', 'thus', 'during', 'many', 'last', 'their', 'you', 'thence', 'least', 'five', '’re', 'who', 'hereby', 'has', 'i', 'becomes', 'yourselves', 'beside', 'at', 'with', '’s', 'than', 'him', 'among', 'moreover', 'three', 'became', 'seem', 'sixty', 'name', 'none', 'namely', 'every', 'across', 'an', 'its', 'should', 'nevertheless', 'just', 'n’t', 'alone', '‘re', 'perhaps', 'off', 'everywhere', 'thereafter', 'was', 'towards', 'nobody', 'somehow', 'could', 'if', 'six', 'without', 'upon', 'never', 'her', 'nothing', 'any', 'until', 'ten', 'of', \"'ll\", 'forty', 'together', 'before', 'anything', '‘ll', 'anyone', 'around', 'even', 'within', '‘m', 'very', 'both', 'somewhere', 'no', 'down', 'two', 'is', 'why', 'she', 'his', 'full', 'here', 'are', 'twenty', 'sometimes', 'when', 'have', 'wherever', 'will', 'throughout', 'along', 'that', 'another', 'via', 'hers', 'these', 'my', 'although', 'call', 'nor', 'please', 'behind', 'neither', 'say', '’d', 'then', 'make', 'own', 'afterwards', 'besides', 'except', 'front', 'after', 'amongst', 'does', 'indeed', 'regarding', 'using', 'below', 'whose', 'serious', 'itself', 'eleven', 'unless', 'sometime', 'something', 'meanwhile', 'various', 'may', 'hence', 'much', 'whom', 'still', 'whether', 'see'}\n"
     ]
    }
   ],
   "source": [
    "# Print the set of spaCy's default stop words (remember that sets are unordered):\n",
    "print(nlp.Defaults.stop_words)"
   ]
  },
  {
   "cell_type": "code",
   "execution_count": 3,
   "metadata": {},
   "outputs": [
    {
     "data": {
      "text/plain": [
       "326"
      ]
     },
     "execution_count": 3,
     "metadata": {},
     "output_type": "execute_result"
    }
   ],
   "source": [
    "len(nlp.Defaults.stop_words)"
   ]
  },
  {
   "cell_type": "markdown",
   "metadata": {},
   "source": [
    "## To see if a word is a stop word"
   ]
  },
  {
   "cell_type": "code",
   "execution_count": 4,
   "metadata": {},
   "outputs": [
    {
     "data": {
      "text/plain": [
       "True"
      ]
     },
     "execution_count": 4,
     "metadata": {},
     "output_type": "execute_result"
    }
   ],
   "source": [
    "nlp.vocab['myself'].is_stop"
   ]
  },
  {
   "cell_type": "code",
   "execution_count": 5,
   "metadata": {},
   "outputs": [
    {
     "data": {
      "text/plain": [
       "False"
      ]
     },
     "execution_count": 5,
     "metadata": {},
     "output_type": "execute_result"
    }
   ],
   "source": [
    "nlp.vocab['mystery'].is_stop"
   ]
  },
  {
   "cell_type": "markdown",
   "metadata": {},
   "source": [
    "## To add a stop word\n",
    "There may be times when you wish to add a stop word to the default set. Perhaps you decide that `'btw'` (common shorthand for \"by the way\") should be considered a stop word."
   ]
  },
  {
   "cell_type": "code",
   "execution_count": 6,
   "metadata": {},
   "outputs": [],
   "source": [
    "# Add the word to the set of stop words. Use lowercase!\n",
    "nlp.Defaults.stop_words.add('btw')\n",
    "\n",
    "# Set the stop_word tag on the lexeme\n",
    "nlp.vocab['btw'].is_stop = True"
   ]
  },
  {
   "cell_type": "code",
   "execution_count": 7,
   "metadata": {},
   "outputs": [
    {
     "data": {
      "text/plain": [
       "327"
      ]
     },
     "execution_count": 7,
     "metadata": {},
     "output_type": "execute_result"
    }
   ],
   "source": [
    "len(nlp.Defaults.stop_words)"
   ]
  },
  {
   "cell_type": "code",
   "execution_count": 8,
   "metadata": {},
   "outputs": [
    {
     "data": {
      "text/plain": [
       "True"
      ]
     },
     "execution_count": 8,
     "metadata": {},
     "output_type": "execute_result"
    }
   ],
   "source": [
    "nlp.vocab['btw'].is_stop"
   ]
  },
  {
   "cell_type": "markdown",
   "metadata": {},
   "source": [
    "<font color=green>When adding stop words, always use lowercase. Lexemes are converted to lowercase before being added to **vocab**.</font>"
   ]
  },
  {
   "cell_type": "markdown",
   "metadata": {},
   "source": [
    "## To remove a stop word\n",
    "Alternatively, you may decide that `'beyond'` should not be considered a stop word."
   ]
  },
  {
   "cell_type": "code",
   "execution_count": 9,
   "metadata": {},
   "outputs": [],
   "source": [
    "# Remove the word from the set of stop words\n",
    "nlp.Defaults.stop_words.remove('beyond')\n",
    "\n",
    "# Remove the stop_word tag from the lexeme\n",
    "nlp.vocab['beyond'].is_stop = False"
   ]
  },
  {
   "cell_type": "code",
   "execution_count": 10,
   "metadata": {},
   "outputs": [
    {
     "data": {
      "text/plain": [
       "326"
      ]
     },
     "execution_count": 10,
     "metadata": {},
     "output_type": "execute_result"
    }
   ],
   "source": [
    "len(nlp.Defaults.stop_words)"
   ]
  },
  {
   "cell_type": "code",
   "execution_count": 11,
   "metadata": {},
   "outputs": [
    {
     "data": {
      "text/plain": [
       "False"
      ]
     },
     "execution_count": 11,
     "metadata": {},
     "output_type": "execute_result"
    }
   ],
   "source": [
    "nlp.vocab['beyond'].is_stop"
   ]
  },
  {
   "cell_type": "markdown",
   "metadata": {},
   "source": [
    "Great! Now you should be able to access spaCy's default set of stop words, and add or remove stop words as needed.\n",
    "## Next up: Vocabulary and Matching"
   ]
  }
 ],
 "metadata": {
  "kernelspec": {
   "display_name": "Python 3 (ipykernel)",
   "language": "python",
   "name": "python3"
  },
  "language_info": {
   "codemirror_mode": {
    "name": "ipython",
    "version": 3
   },
   "file_extension": ".py",
   "mimetype": "text/x-python",
   "name": "python",
   "nbconvert_exporter": "python",
   "pygments_lexer": "ipython3",
   "version": "3.7.11"
  }
 },
 "nbformat": 4,
 "nbformat_minor": 2
}
