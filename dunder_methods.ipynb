{
 "cells": [
  {
   "cell_type": "code",
   "execution_count": 13,
   "id": "89869e1b",
   "metadata": {},
   "outputs": [],
   "source": [
    "class Polynomial:\n",
    "    def __init__(self, *coeffs):\n",
    "        self.coeffs = coeffs\n",
    "        \n",
    "    def __repr__(self):\n",
    "        return 'Polynomial(*{!r})'.format(self.coeffs) #printable representation \n",
    "    \n",
    "    def __add__(self, other):\n",
    "        return Polynomial(*(x+y for x,y in zip(self.coeffs, other.coeffs)))\n",
    "    \n",
    "    def __len__(self):\n",
    "        return len(self.coeffs)\n",
    "        \n",
    "p1 = Polynomial(1,2,3)\n",
    "p2 = Polynomial(3,4,3)"
   ]
  },
  {
   "cell_type": "code",
   "execution_count": 10,
   "id": "3f4b4477",
   "metadata": {
    "scrolled": true
   },
   "outputs": [
    {
     "data": {
      "text/plain": [
       "Polynomial(*(1, 2, 3))"
      ]
     },
     "execution_count": 10,
     "metadata": {},
     "output_type": "execute_result"
    }
   ],
   "source": [
    "p1"
   ]
  },
  {
   "cell_type": "code",
   "execution_count": 11,
   "id": "aacffe93",
   "metadata": {
    "scrolled": true
   },
   "outputs": [
    {
     "data": {
      "text/plain": [
       "Polynomial(*(3, 4, 3))"
      ]
     },
     "execution_count": 11,
     "metadata": {},
     "output_type": "execute_result"
    }
   ],
   "source": [
    "p2"
   ]
  },
  {
   "cell_type": "code",
   "execution_count": 9,
   "id": "382b59a7",
   "metadata": {
    "scrolled": true
   },
   "outputs": [
    {
     "data": {
      "text/plain": [
       "Polynomial(*(4, 6, 6))"
      ]
     },
     "execution_count": 9,
     "metadata": {},
     "output_type": "execute_result"
    }
   ],
   "source": [
    "p1+p2"
   ]
  },
  {
   "cell_type": "code",
   "execution_count": 16,
   "id": "55744489",
   "metadata": {},
   "outputs": [
    {
     "data": {
      "text/plain": [
       "3"
      ]
     },
     "execution_count": 16,
     "metadata": {},
     "output_type": "execute_result"
    }
   ],
   "source": [
    "len(p2)"
   ]
  },
  {
   "cell_type": "code",
   "execution_count": 17,
   "id": "576a5a8f",
   "metadata": {},
   "outputs": [],
   "source": [
    "def _():\n",
    "    class Base: pass"
   ]
  },
  {
   "cell_type": "code",
   "execution_count": 19,
   "id": "f74c5969",
   "metadata": {
    "scrolled": true
   },
   "outputs": [
    {
     "name": "stdout",
     "output_type": "stream",
     "text": [
      "  2           0 LOAD_BUILD_CLASS\n",
      "              2 LOAD_CONST               1 (<code object Base at 0x7f811036bae0, file \"<ipython-input-17-16d72731edff>\", line 2>)\n",
      "              4 LOAD_CONST               2 ('Base')\n",
      "              6 MAKE_FUNCTION            0\n",
      "              8 LOAD_CONST               2 ('Base')\n",
      "             10 CALL_FUNCTION            2\n",
      "             12 STORE_FAST               0 (Base)\n",
      "             14 LOAD_CONST               0 (None)\n",
      "             16 RETURN_VALUE\n",
      "\n",
      "Disassembly of <code object Base at 0x7f811036bae0, file \"<ipython-input-17-16d72731edff>\", line 2>:\n",
      "  2           0 LOAD_NAME                0 (__name__)\n",
      "              2 STORE_NAME               1 (__module__)\n",
      "              4 LOAD_CONST               0 ('_.<locals>.Base')\n",
      "              6 STORE_NAME               2 (__qualname__)\n",
      "              8 LOAD_CONST               1 (None)\n",
      "             10 RETURN_VALUE\n"
     ]
    }
   ],
   "source": [
    "from dis import dis #code disassembly\n",
    "dis(_)"
   ]
  },
  {
   "cell_type": "code",
   "execution_count": 35,
   "id": "99d5c295",
   "metadata": {},
   "outputs": [],
   "source": [
    "# dec.py\n",
    "\n",
    "def adder(x,y=10):\n",
    "    return x+y"
   ]
  },
  {
   "cell_type": "code",
   "execution_count": 33,
   "id": "e58c7d82",
   "metadata": {},
   "outputs": [
    {
     "data": {
      "text/plain": [
       "44"
      ]
     },
     "execution_count": 33,
     "metadata": {},
     "output_type": "execute_result"
    }
   ],
   "source": [
    "adder(10,34)"
   ]
  },
  {
   "cell_type": "code",
   "execution_count": 40,
   "id": "2cf77d4f",
   "metadata": {},
   "outputs": [
    {
     "name": "stdout",
     "output_type": "stream",
     "text": [
      "adder __main__ (10,) <code object adder at 0x7f8110305270, file \"<ipython-input-35-61a6135b0557>\", line 3> b'|\\x00|\\x01\\x17\\x00S\\x00' 2 ('x', 'y')\n"
     ]
    }
   ],
   "source": [
    "print(adder.__name__, \n",
    "     adder.__module__,\n",
    "     adder.__defaults__,\n",
    "     adder.__code__,\n",
    "     adder.__code__.co_code,\n",
    "     adder.__code__.co_nlocals,\n",
    "     adder.__code__.co_varnames)"
   ]
  },
  {
   "cell_type": "code",
   "execution_count": 45,
   "id": "dbec8c52",
   "metadata": {
    "scrolled": true
   },
   "outputs": [
    {
     "data": {
      "text/plain": [
       "'def adder(x,y=10):\\n    return x+y\\n'"
      ]
     },
     "execution_count": 45,
     "metadata": {},
     "output_type": "execute_result"
    }
   ],
   "source": [
    "from inspect import getsource\n",
    "getsource(adder)"
   ]
  },
  {
   "cell_type": "code",
   "execution_count": 44,
   "id": "89642aca",
   "metadata": {},
   "outputs": [
    {
     "data": {
      "text/plain": [
       "'<ipython-input-35-61a6135b0557>'"
      ]
     },
     "execution_count": 44,
     "metadata": {},
     "output_type": "execute_result"
    }
   ],
   "source": [
    "from inspect import getfile\n",
    "getfile(adder)"
   ]
  },
  {
   "cell_type": "code",
   "execution_count": 76,
   "id": "b503e75d",
   "metadata": {
    "scrolled": true
   },
   "outputs": [
    {
     "name": "stdout",
     "output_type": "stream",
     "text": [
      "elapsed 1.430511474609375e-06\n",
      "add(10) 20\n",
      "elapsed 1.6689300537109375e-06\n",
      "add(20,30) 50\n",
      "elapsed 9.5367431640625e-07\n",
      "add(\"a\",\"b\") ab\n",
      "elapsed 1.1920928955078125e-06\n",
      "sub(100) 80\n",
      "elapsed 1.1920928955078125e-06\n",
      "sub(20,30) -10\n"
     ]
    }
   ],
   "source": [
    "#tracking code\n",
    "from time import time\n",
    "def timer(func, x, y=10):\n",
    "    before = time()\n",
    "    rv = func(x, y)\n",
    "    after = time()\n",
    "    print('elapsed', after-before)\n",
    "    return rv\n",
    "\n",
    "def add(x,y=20):\n",
    "    return x+y\n",
    "\n",
    "def sub(x, y=50):\n",
    "    return x-y\n",
    "\n",
    "print('add(10)',      timer(add,10))\n",
    "print('add(20,30)', timer(add, 20,30))\n",
    "print('add(\"a\",\"b\")', timer(add, \"a\",\"b\"))\n",
    "print('sub(100)', timer(sub, 90))\n",
    "print('sub(20,30)', timer(sub, 20, 30))"
   ]
  },
  {
   "cell_type": "code",
   "execution_count": 79,
   "id": "37ca49b5",
   "metadata": {
    "scrolled": true
   },
   "outputs": [
    {
     "name": "stdout",
     "output_type": "stream",
     "text": [
      "elapsed 9.5367431640625e-07\n",
      "add(10) 30\n",
      "elapsed 1.1920928955078125e-06\n",
      "add(20,30) 50\n",
      "elapsed 1.1920928955078125e-06\n",
      "add(\"a\",\"b\") ab\n",
      "elapsed 1.430511474609375e-06\n",
      "sub(100) 40\n",
      "elapsed 9.5367431640625e-07\n",
      "sub(20,30) -10\n"
     ]
    }
   ],
   "source": [
    "# with decorators\n",
    "\n",
    "from time import time\n",
    "def timer(func):\n",
    "    def f(*args, **kwargs):\n",
    "        before = time()\n",
    "        rv = func(*args, **kwargs)  #arbitary param spec and fold-it-on any fashion\n",
    "        after = time()\n",
    "        print('elapsed', after-before)\n",
    "        return rv\n",
    "    return f\n",
    "\n",
    "@timer  \n",
    "def add(x,y=20):\n",
    "    return x+y\n",
    "@timer\n",
    "def sub(x, y=50):\n",
    "    return x-y\n",
    "\n",
    "print('add(10)',      add(10))\n",
    "print('add(20,30)', add(20,30))\n",
    "print('add(\"a\",\"b\")', add(\"a\",\"b\"))\n",
    "print('sub(100)', sub(90))\n",
    "print('sub(20,30)', sub(20, 30))"
   ]
  },
  {
   "cell_type": "code",
   "execution_count": 85,
   "id": "8a618de6",
   "metadata": {
    "scrolled": false
   },
   "outputs": [
    {
     "name": "stdout",
     "output_type": "stream",
     "text": [
      "runningadd\n",
      "runningadd\n",
      "add(10) 30\n",
      "runningadd\n",
      "runningadd\n",
      "add(20,30) 50\n",
      "runningadd\n",
      "runningadd\n",
      "add(\"a\",\"b\") aab\n",
      "runningsub\n",
      "runningsub\n",
      "runningsub\n",
      "runningsub\n",
      "runningsub\n",
      "sub(100) 40\n",
      "runningsub\n",
      "runningsub\n",
      "runningsub\n",
      "runningsub\n",
      "runningsub\n",
      "sub(20,30) -10\n"
     ]
    }
   ],
   "source": [
    "# write a function that runs n-times. strip decorators, we need a wrapper inside a function to implement this.\n",
    "\n",
    "from time import time\n",
    "def timer(func):\n",
    "    def f(*args, **kwargs):\n",
    "        before = time()\n",
    "        rv = func(*args, **kwargs)  #arbitary param spec and fold-it-on any fashion\n",
    "        after = time()\n",
    "        print('elapsed', after-before)\n",
    "        return rv\n",
    "    return f\n",
    "\n",
    "#higher-order decorators (closure object duality)\n",
    "def ntimes(n):\n",
    "    def inner(f):\n",
    "        def wrapper(*args, **kwargs):\n",
    "            for _ in range(n):\n",
    "                print('running{.__name__}'.format(f))\n",
    "                rv = f(*args, **kwargs)\n",
    "            return rv\n",
    "        return wrapper\n",
    "    return inner\n",
    "\n",
    "@ntimes(2)\n",
    "def add(x,y=20):\n",
    "    return x+y\n",
    "\n",
    "@ntimes(5)\n",
    "def sub(x, y=50):\n",
    "    return x-y\n",
    "\n",
    "print('add(10)',      add(10))\n",
    "print('add(20,30)', add(20,30))\n",
    "print('add(\"a\",\"b\")', add(\"aa\",\"b\"))\n",
    "print('sub(100)', sub(90))\n",
    "print('sub(20,30)', sub(20, 30))"
   ]
  },
  {
   "cell_type": "code",
   "execution_count": null,
   "id": "57cfb999",
   "metadata": {},
   "outputs": [],
   "source": [
    "# gen.py\n",
    "\n",
    "\n"
   ]
  }
 ],
 "metadata": {
  "kernelspec": {
   "display_name": "Python 3",
   "language": "python",
   "name": "python3"
  },
  "language_info": {
   "codemirror_mode": {
    "name": "ipython",
    "version": 3
   },
   "file_extension": ".py",
   "mimetype": "text/x-python",
   "name": "python",
   "nbconvert_exporter": "python",
   "pygments_lexer": "ipython3",
   "version": "3.7.10"
  }
 },
 "nbformat": 4,
 "nbformat_minor": 5
}
